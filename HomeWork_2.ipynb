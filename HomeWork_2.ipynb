{
 "cells": [
  {
   "cell_type": "markdown",
   "id": "63240bd2",
   "metadata": {},
   "source": [
    "# Домашнее задание 2"
   ]
  },
  {
   "cell_type": "markdown",
   "id": "171fe393",
   "metadata": {},
   "source": [
    "### 1. Поиск по списку \n",
    "Дан список с визитами по городам и странам. Напишите код, который возвращает отфильтрованный список geo_logs, содержащий только визиты из России. Считайте, что список geo_logs легко помещается в оперативной памяти."
   ]
  },
  {
   "cell_type": "code",
   "execution_count": 38,
   "id": "49e59080",
   "metadata": {},
   "outputs": [],
   "source": [
    "geo_logs = [\n",
    "    {'visit1': ['Москва', 'Россия']},\n",
    "    {'visit2': ['Дели', 'Индия']},\n",
    "    {'visit3': ['Владимир', 'Россия']},\n",
    "    {'visit4': ['Лиссабон', 'Португалия']},\n",
    "    {'visit5': ['Париж', 'Франция']},\n",
    "    {'visit6': ['Лиссабон', 'Португалия']},\n",
    "    {'visit7': ['Тула', 'Россия']},\n",
    "    {'visit8': ['Тула', 'Россия']},\n",
    "    {'visit9': ['Курск', 'Россия']},\n",
    "    {'visit10': ['Архангельск', 'Россия']},\n",
    "]\n"
   ]
  },
  {
   "cell_type": "code",
   "execution_count": 46,
   "id": "4507cb9a",
   "metadata": {},
   "outputs": [
    {
     "name": "stdout",
     "output_type": "stream",
     "text": [
      "{'visit1': ['Москва', 'Россия']}\n",
      "{'visit3': ['Владимир', 'Россия']}\n",
      "{'visit7': ['Тула', 'Россия']}\n",
      "{'visit8': ['Тула', 'Россия']}\n",
      "{'visit9': ['Курск', 'Россия']}\n",
      "{'visit10': ['Архангельск', 'Россия']}\n"
     ]
    }
   ],
   "source": [
    "for geo in geo_logs:\n",
    "    for key, country in geo.items():\n",
    "        if country[1] == 'Россия':\n",
    "            print(geo)"
   ]
  },
  {
   "cell_type": "markdown",
   "id": "5f2a62ee",
   "metadata": {},
   "source": [
    "### 2. Уникальные значения из словаря \n",
    "Выведите на экран все уникальные гео-ID из значений словаря ids. Т. е. список вида [213, 15, 54, 119, 98, 35]"
   ]
  },
  {
   "cell_type": "code",
   "execution_count": 54,
   "id": "f562e0d2",
   "metadata": {},
   "outputs": [],
   "source": [
    "ids = {\n",
    "    'user1': [213, 213, 213, 15, 213], \n",
    "    'user2': [54, 54, 119, 119, 119], \n",
    "    'user3': [213, 98, 98, 35]\n",
    "}"
   ]
  },
  {
   "cell_type": "code",
   "execution_count": 55,
   "id": "5915f36d",
   "metadata": {},
   "outputs": [],
   "source": [
    "geo_ids = []"
   ]
  },
  {
   "cell_type": "code",
   "execution_count": 56,
   "id": "d5389148",
   "metadata": {},
   "outputs": [
    {
     "name": "stdout",
     "output_type": "stream",
     "text": [
      "[213, 213, 213, 15, 213, 54, 54, 119, 119, 119, 213, 98, 98, 35]\n"
     ]
    }
   ],
   "source": [
    "for user, geo_id in ids.items():\n",
    "    for i in geo_id:\n",
    "        geo_ids.append(i)\n",
    "print(geo_ids)\n"
   ]
  },
  {
   "cell_type": "code",
   "execution_count": 57,
   "id": "1c06c968",
   "metadata": {},
   "outputs": [
    {
     "data": {
      "text/plain": [
       "{15, 35, 54, 98, 119, 213}"
      ]
     },
     "execution_count": 57,
     "metadata": {},
     "output_type": "execute_result"
    }
   ],
   "source": [
    "set(geo_ids)"
   ]
  },
  {
   "cell_type": "code",
   "execution_count": null,
   "id": "982e7c09",
   "metadata": {},
   "outputs": [],
   "source": []
  },
  {
   "cell_type": "markdown",
   "id": "4f76c17a",
   "metadata": {},
   "source": [
    "### 3. Список поисковых запросов \n",
    "Получить распределение количества слов в них. Т. е. поисковых запросов из одного слова 5%, из двух - 7%, из трех - 3% итд."
   ]
  },
  {
   "cell_type": "code",
   "execution_count": 58,
   "id": "ec60283f",
   "metadata": {},
   "outputs": [],
   "source": [
    "queries = [\n",
    "    'смотреть сериалы онлайн',\n",
    "    'новости спорта',\n",
    "    'афиша кино',\n",
    "    'курс доллара',\n",
    "    'сериалы этим летом',\n",
    "    'курс по питону',\n",
    "    'сериалы про спорт',\n",
    "]"
   ]
  },
  {
   "cell_type": "code",
   "execution_count": 59,
   "id": "fe571f1f",
   "metadata": {},
   "outputs": [],
   "source": [
    "count_word = []"
   ]
  },
  {
   "cell_type": "code",
   "execution_count": 60,
   "id": "c194334b",
   "metadata": {},
   "outputs": [
    {
     "name": "stdout",
     "output_type": "stream",
     "text": [
      "Количество слов в каждом запросе =  [3, 2, 2, 2, 3, 3, 3]\n"
     ]
    }
   ],
   "source": [
    "for query in queries:\n",
    "    count_space = query.count(' ')\n",
    "    count_space +=1\n",
    "    count_word.append(count_space)\n",
    "print('Количество слов в каждом запросе = ',count_word)"
   ]
  },
  {
   "cell_type": "code",
   "execution_count": 61,
   "id": "3faab841",
   "metadata": {},
   "outputs": [],
   "source": [
    "uniq_count_word = set(count_word) #Множество с различным количеством слов в поисковых запросах"
   ]
  },
  {
   "cell_type": "code",
   "execution_count": 67,
   "id": "53a1280e",
   "metadata": {},
   "outputs": [
    {
     "name": "stdout",
     "output_type": "stream",
     "text": [
      "Поисковых запросов из 2 слов 42.9%\n",
      "Поисковых запросов из 3 слов 57.1%\n"
     ]
    }
   ],
   "source": [
    "for i in uniq_count_word:\n",
    "    distribution = (count_word.count(i) / len(queries)) * 100\n",
    "    print('Поисковых запросов из {} слов {:.1f}%'.format(i, distribution))"
   ]
  },
  {
   "cell_type": "code",
   "execution_count": null,
   "id": "bb147a59",
   "metadata": {},
   "outputs": [],
   "source": []
  },
  {
   "cell_type": "markdown",
   "id": "c5528ac5",
   "metadata": {},
   "source": [
    "### 4. Максимальный объем продаж\n",
    "Дана статистика рекламных каналов по объемам продаж. Напишите скрипт, который возвращает название канала с максимальным объемом.\n",
    "Т. е. в данном примере скрипт должен возвращать 'yandex'."
   ]
  },
  {
   "cell_type": "code",
   "execution_count": 1,
   "id": "d7284066",
   "metadata": {},
   "outputs": [],
   "source": [
    "stats = {'facebook': 55, 'yandex': 120, 'vk': 115, 'google': 99, 'email': 42, 'ok': 98}"
   ]
  },
  {
   "cell_type": "code",
   "execution_count": 7,
   "id": "9c3f128e",
   "metadata": {},
   "outputs": [],
   "source": [
    "sale_list = []\n",
    "for key, value in stats.items():\n",
    "    sale_list.append(value)\n",
    "\n",
    "    "
   ]
  },
  {
   "cell_type": "code",
   "execution_count": 8,
   "id": "af099a52",
   "metadata": {},
   "outputs": [
    {
     "name": "stdout",
     "output_type": "stream",
     "text": [
      "120\n"
     ]
    }
   ],
   "source": [
    "max_sale = max(sale_list)\n",
    "print(max_sale)"
   ]
  },
  {
   "cell_type": "code",
   "execution_count": 11,
   "id": "76caead5",
   "metadata": {},
   "outputs": [
    {
     "name": "stdout",
     "output_type": "stream",
     "text": [
      "Канал с максимальным объемом продаж -  yandex\n"
     ]
    }
   ],
   "source": [
    "for key, value in stats.items():\n",
    "    if value == max_sale:\n",
    "        print('Канал с максимальным объемом продаж - ',key)"
   ]
  },
  {
   "cell_type": "markdown",
   "id": "e05f79a2",
   "metadata": {},
   "source": [
    "### 5. Среднее значение просмотров на пользователя\n",
    "Дан поток логов по количеству просмотренных страниц для каждого пользователя. Список отсортирован по ID пользователя. Вам необходимо написать алгоритм, который считает среднее значение просмотров на пользователя. Т. е. надо посчитать отношение суммы всех просмотров к количеству уникальных пользователей. Учтите, что весь список stream не помещается в оперативную память, т. е. его нужно обрабатывать поэлементно в цикле."
   ]
  },
  {
   "cell_type": "code",
   "execution_count": 87,
   "id": "6be43e99",
   "metadata": {},
   "outputs": [],
   "source": [
    "stream = [\n",
    "    '2018-01-01,user1,3',\n",
    "    '2018-01-07,user1,4',\n",
    "    '2018-03-29,user1,1',\n",
    "    '2018-04-04,user1,13',\n",
    "    '2018-01-05,user2,7',\n",
    "    '2018-06-14,user3,4',\n",
    "    '2018-07-02,user3,10',\n",
    "    '2018-03-21,user4,19',\n",
    "    '2018-03-22,user4,4',\n",
    "    '2018-04-22,user4,8',\n",
    "    '2018-05-03,user4,9',\n",
    "    '2018-05-11,user4,11',\n",
    "]"
   ]
  },
  {
   "cell_type": "code",
   "execution_count": 88,
   "id": "a7645c5e",
   "metadata": {},
   "outputs": [
    {
     "name": "stdout",
     "output_type": "stream",
     "text": [
      "[['2018-01-01', 'user1', '3'], ['2018-01-07', 'user1', '4'], ['2018-03-29', 'user1', '1'], ['2018-04-04', 'user1', '13'], ['2018-01-05', 'user2', '7'], ['2018-06-14', 'user3', '4'], ['2018-07-02', 'user3', '10'], ['2018-03-21', 'user4', '19'], ['2018-03-22', 'user4', '4'], ['2018-04-22', 'user4', '8'], ['2018-05-03', 'user4', '9'], ['2018-05-11', 'user4', '11']]\n"
     ]
    }
   ],
   "source": [
    "streams = []\n",
    "for st in stream:\n",
    "    x = st.split(',')\n",
    "    streams.append(x)\n",
    "print(streams)"
   ]
  },
  {
   "cell_type": "code",
   "execution_count": 93,
   "id": "4a0725a0",
   "metadata": {},
   "outputs": [
    {
     "name": "stdout",
     "output_type": "stream",
     "text": [
      "Среднее значение просмотров на уникального пользователя =  23.25\n"
     ]
    }
   ],
   "source": [
    "sum_count = 0\n",
    "user_list = []\n",
    "for x in range(0,i):\n",
    "    sum_count += int(streams[x][2])\n",
    "    user = streams[x][1]\n",
    "    user_list.append(user)\n",
    "user_list = set(user_list)\n",
    "print('Среднее значение просмотров на уникального пользователя = ', sum_count / len(user_list))"
   ]
  },
  {
   "cell_type": "markdown",
   "id": "5079d727",
   "metadata": {},
   "source": [
    "Я неправильно поняла задачу и посчитала распределение просмотров для каждого уникального пользователя"
   ]
  },
  {
   "cell_type": "code",
   "execution_count": 83,
   "id": "b65edb33",
   "metadata": {},
   "outputs": [],
   "source": [
    "sum_list =[]\n",
    "user_dict = {}\n",
    "i = len(streams)"
   ]
  },
  {
   "cell_type": "code",
   "execution_count": 85,
   "id": "a6bc4c4c",
   "metadata": {},
   "outputs": [
    {
     "name": "stdout",
     "output_type": "stream",
     "text": [
      "{'user1': 21, 'user2': 7, 'user3': 14, 'user4': 51}\n"
     ]
    }
   ],
   "source": [
    "for x in range(0,i):\n",
    "    sum_count = 0\n",
    "    user = streams[x][1]\n",
    "    while (streams[x][1] == user):\n",
    "        sum_count += int(streams[x][2])\n",
    "        x += 1\n",
    "        if x >= (i):\n",
    "            break\n",
    "    sum_list.append(sum_count)\n",
    "    user_dict.setdefault(user, sum_count)\n",
    "print(user_dict)"
   ]
  },
  {
   "cell_type": "code",
   "execution_count": 95,
   "id": "24fef5ce",
   "metadata": {},
   "outputs": [
    {
     "name": "stdout",
     "output_type": "stream",
     "text": [
      "Просмотры для уникального пользователя user1 к общему числу просмотров = 0.23\n",
      "Просмотры для уникального пользователя user2 к общему числу просмотров = 0.08\n",
      "Просмотры для уникального пользователя user3 к общему числу просмотров = 0.15\n",
      "Просмотры для уникального пользователя user4 к общему числу просмотров = 0.55\n"
     ]
    }
   ],
   "source": [
    "sum_count = 0\n",
    "for key, value in user_dict.items():\n",
    "    sum_count += value\n",
    "for key, value in user_dict.items():\n",
    "    print('Просмотры для уникального пользователя {} к общему числу просмотров = {:.2f}'.format(key, value/sum_count))"
   ]
  },
  {
   "cell_type": "code",
   "execution_count": null,
   "id": "a8c4316b",
   "metadata": {},
   "outputs": [],
   "source": []
  },
  {
   "cell_type": "markdown",
   "id": "68989135",
   "metadata": {},
   "source": [
    "### 6. Поиск по паре значений в списке\n",
    "Дана статистика рекламных кампаний по дням. Напишите алгоритм, который по паре дата-компания ищет значение численного столбца. Т. е. для даты '2018-01-01' и 'google' нужно получить число 25. Считайте, что все комбинации дата-компания уникальны, а список stats легко помещается в оперативной памяти."
   ]
  },
  {
   "cell_type": "code",
   "execution_count": 96,
   "id": "1e39bdc8",
   "metadata": {},
   "outputs": [],
   "source": [
    "stats = [\n",
    "    ['2018-01-01', 'google', 25],\n",
    "    ['2018-01-01', 'yandex', 65],\n",
    "    ['2018-01-01', 'market', 89],\n",
    "    ['2018-01-02', 'google', 574],\n",
    "    ['2018-01-02', 'yandex', 249],\n",
    "    ['2018-01-02', 'market', 994],\n",
    "    ['2018-01-03', 'google', 1843],\n",
    "    ['2018-01-03', 'yandex', 1327],\n",
    "    ['2018-01-03', 'market', 1764],\n",
    "]\n"
   ]
  },
  {
   "cell_type": "code",
   "execution_count": 97,
   "id": "5c7a6abf",
   "metadata": {},
   "outputs": [
    {
     "name": "stdout",
     "output_type": "stream",
     "text": [
      "Введите дату в формате год-месяц-день2018-01-01\n",
      "Введите компаниюgoogle\n"
     ]
    }
   ],
   "source": [
    "data = input('Введите дату в формате год-месяц-день ')\n",
    "company = input('Введите компанию ')"
   ]
  },
  {
   "cell_type": "code",
   "execution_count": 98,
   "id": "a18697ea",
   "metadata": {},
   "outputs": [
    {
     "name": "stdout",
     "output_type": "stream",
     "text": [
      "25\n"
     ]
    }
   ],
   "source": [
    "for info in stats:\n",
    "    if (info[0] == data) & (info[1] == company):\n",
    "        print(info[2])"
   ]
  },
  {
   "cell_type": "code",
   "execution_count": null,
   "id": "6318c8ce",
   "metadata": {},
   "outputs": [],
   "source": []
  },
  {
   "cell_type": "markdown",
   "id": "ab397174",
   "metadata": {},
   "source": [
    "### 7. Бонус\n",
    "Рассмотрите обобщенный вариант этой задачи: имеется таблица из n столбцов. Первые n-1 столбцов - признаки (комбинации этих признаков в таблице уникальные). Последний столбец - значение. Вам необходимо по набору n-1 признаков найти соответствующую строчку в таблице и вернуть значение из правого столбца. \n",
    "\n",
    "Одно из применений задачи - объединение двух таблиц по n столбцов, одна из которых помещается в оперативной памяти. Например, 7 столбцов по 1 и 10 миллионов строк."
   ]
  },
  {
   "cell_type": "code",
   "execution_count": null,
   "id": "c33627dd",
   "metadata": {},
   "outputs": [],
   "source": []
  },
  {
   "cell_type": "code",
   "execution_count": null,
   "id": "9fbdb9d6",
   "metadata": {},
   "outputs": [],
   "source": []
  },
  {
   "cell_type": "code",
   "execution_count": null,
   "id": "0cd49260",
   "metadata": {},
   "outputs": [],
   "source": []
  },
  {
   "cell_type": "code",
   "execution_count": null,
   "id": "0cc0befa",
   "metadata": {},
   "outputs": [],
   "source": []
  }
 ],
 "metadata": {
  "kernelspec": {
   "display_name": "Python 3 (ipykernel)",
   "language": "python",
   "name": "python3"
  },
  "language_info": {
   "codemirror_mode": {
    "name": "ipython",
    "version": 3
   },
   "file_extension": ".py",
   "mimetype": "text/x-python",
   "name": "python",
   "nbconvert_exporter": "python",
   "pygments_lexer": "ipython3",
   "version": "3.9.12"
  }
 },
 "nbformat": 4,
 "nbformat_minor": 5
}
